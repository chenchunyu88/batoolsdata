{
 "cells": [
  {
   "cell_type": "markdown",
   "metadata": {},
   "source": [
    "# Pre-process MSUPRP sample data for BATools\n",
    "\n",
    "## Information about the dataset\n",
    "\n",
    "The data comes from https://github.com/steibelj/gwaR, an example dataset for gwas study for MSUPRP dataset. The complete dataset can be also found at https://github.com/steibelj/GWA_growth.\n",
    "\n",
    "The dataset comes as `gpData` from the `synbreed` R package.\n",
    "\n",
    "This example will demonstrate how to create pedigree based relationship matrix and adaptive window based LD from the dataset.\n",
    "\n",
    "Finally, we'll create the data file for BATools.\n",
    "\n",
    "### 0. Before you start\n",
    "Make sure you have the following R package installed: `dplyr`,`MCMCglmm`, `Matrix`\n",
    "\n",
    "### 1. Explore the data "
   ]
  },
  {
   "cell_type": "code",
   "execution_count": 1,
   "metadata": {
    "collapsed": false
   },
   "outputs": [
    {
     "data": {
      "text/html": [
       "'gpData'"
      ],
      "text/latex": [
       "'gpData'"
      ],
      "text/markdown": [
       "'gpData'"
      ],
      "text/plain": [
       "[1] \"gpData\""
      ]
     },
     "metadata": {},
     "output_type": "display_data"
    },
    {
     "name": "stdout",
     "output_type": "stream",
     "text": [
      "List of 7\n",
      " $ covar      :'data.frame':\t253 obs. of  9 variables:\n",
      "  ..$ id        : chr [1:253] \"6070\" \"6071\" \"6086\" \"6088\" ...\n",
      "  ..$ phenotyped: logi [1:253] FALSE FALSE FALSE FALSE FALSE FALSE ...\n",
      "  ..$ genotyped : logi [1:253] TRUE TRUE TRUE TRUE TRUE TRUE ...\n",
      "  ..$ family    : logi [1:253] NA NA NA NA NA NA ...\n",
      "  ..$ sex       : Factor w/ 2 levels \"F\",\"M\": NA NA NA NA NA NA NA NA NA NA ...\n",
      "  ..$ litter    : Factor w/ 142 levels \"1\",\"2\",\"3\",\"4\",..: NA NA NA NA NA NA NA NA NA NA ...\n",
      "  ..$ slgdt_cd  : Factor w/ 33 levels \"1\",\"2\",\"3\",\"4\",..: NA NA NA NA NA NA NA NA NA NA ...\n",
      "  ..$ age_slg   : int [1:253] NA NA NA NA NA NA NA NA NA NA ...\n",
      "  ..$ car_wt    : num [1:253] NA NA NA NA NA NA NA NA NA NA ...\n",
      " $ pheno      : num [1:194, 1:3, 1] 5.22 5.19 5.44 5.36 5.25 5.29 5.44 5.26 5.35 5.39 ...\n",
      "  ..- attr(*, \"dimnames\")=List of 3\n",
      "  .. ..$ : chr [1:194] \"1034\" \"1036\" \"1041\" \"1049\" ...\n",
      "  .. ..$ : chr [1:3] \"ph_24h\" \"temp_24h\" \"driploss\"\n",
      "  .. ..$ : NULL\n",
      " $ geno       : num [1:251, 1:20597] 0 0 1 1 1 2 1 1 1 1 ...\n",
      "  ..- attr(*, \"dimnames\")=List of 2\n",
      "  .. ..$ : chr [1:251] \"1034\" \"1036\" \"1041\" \"1049\" ...\n",
      "  .. ..$ : chr [1:20597] \"MARC0044150\" \"ASGA0000014\" \"H3GA0000032\" \"ASGA0000047\" ...\n",
      " $ map        :Classes 'GenMap' and 'data.frame':\t20597 obs. of  2 variables:\n",
      "  ..$ chr: num [1:20597] 1 1 1 1 1 1 1 1 1 1 ...\n",
      "  ..$ pos: num [1:20597] 286933 342481 573088 813652 1220227 ...\n",
      " $ pedigree   :Classes 'pedigree' and 'data.frame':\t253 obs. of  5 variables:\n",
      "  ..$ ID   : chr [1:253] \"6070\" \"6071\" \"6086\" \"6088\" ...\n",
      "  ..$ Par1 : chr [1:253] \"0\" \"0\" \"0\" \"0\" ...\n",
      "  ..$ Par2 : chr [1:253] \"0\" \"0\" \"0\" \"0\" ...\n",
      "  ..$ gener: num [1:253] 0 0 0 0 0 0 0 0 0 0 ...\n",
      "  ..$ sex  : num [1:253] 0 0 0 0 0 1 1 1 1 0 ...\n",
      " $ phenoCovars: NULL\n",
      " $ info       :List of 2\n",
      "  ..$ map.unit: chr \"bp\"\n",
      "  ..$ codeGeno: logi TRUE\n",
      " - attr(*, \"class\")= chr \"gpData\"\n"
     ]
    }
   ],
   "source": [
    "load(\"MSUPRP_sample.RData\")\n",
    "class(MSUPRP_sample)\n",
    "str(MSUPRP_sample)"
   ]
  },
  {
   "cell_type": "markdown",
   "metadata": {},
   "source": [
    "### 2. Merge phenotype and covar to a dataframe\n",
    "Commonly, using dataframe or datatable to manage all phenotypes are easier. So we'll merge the two together"
   ]
  },
  {
   "cell_type": "code",
   "execution_count": 4,
   "metadata": {
    "collapsed": false
   },
   "outputs": [
    {
     "name": "stderr",
     "output_type": "stream",
     "text": [
      "\n",
      "Attaching package: 'dplyr'\n",
      "\n",
      "The following objects are masked from 'package:stats':\n",
      "\n",
      "    filter, lag\n",
      "\n",
      "The following objects are masked from 'package:base':\n",
      "\n",
      "    intersect, setdiff, setequal, union\n",
      "\n"
     ]
    },
    {
     "data": {
      "text/html": [
       "<table>\n",
       "<thead><tr><th scope=col>ph_24h</th><th scope=col> temp_24h</th><th scope=col>driploss</th><th scope=col>id</th><th scope=col>phenotyped</th><th scope=col>genotyped</th><th scope=col>family</th><th scope=col>sex</th><th scope=col>litter</th><th scope=col>slgdt_cd</th><th scope=col>age_slg</th><th scope=col>car_wt</th></tr></thead>\n",
       "<tbody>\n",
       "\t<tr><td>5.22 </td><td>1.6  </td><td>0.95 </td><td>1034 </td><td>TRUE </td><td>TRUE </td><td>NA   </td><td>F    </td><td>5    </td><td>2    </td><td>160  </td><td>85.49</td></tr>\n",
       "\t<tr><td>5.19 </td><td>1.3  </td><td>0.82 </td><td>1036 </td><td>TRUE </td><td>TRUE </td><td>NA   </td><td>F    </td><td>5    </td><td>2    </td><td>160  </td><td>71.66</td></tr>\n",
       "\t<tr><td>5.44 </td><td>1.8  </td><td>1.15 </td><td>1041 </td><td>TRUE </td><td>TRUE </td><td>NA   </td><td>M    </td><td>5    </td><td>2    </td><td>160  </td><td>80.27</td></tr>\n",
       "\t<tr><td>5.36 </td><td>1.8  </td><td>0.55 </td><td>1049 </td><td>TRUE </td><td>TRUE </td><td>NA   </td><td>M    </td><td>5    </td><td>2    </td><td>160  </td><td>81.86</td></tr>\n",
       "\t<tr><td>5.25 </td><td>1.3  </td><td>2.87 </td><td>1058 </td><td>TRUE </td><td>TRUE </td><td>NA   </td><td>F    </td><td>10   </td><td>2    </td><td>159  </td><td>72.11</td></tr>\n",
       "\t<tr><td>5.29 </td><td>1.5  </td><td>1.02 </td><td>1060 </td><td>TRUE </td><td>TRUE </td><td>NA   </td><td>F    </td><td>10   </td><td>2    </td><td>159  </td><td>70.75</td></tr>\n",
       "</tbody>\n",
       "</table>\n"
      ],
      "text/latex": [
       "\\begin{tabular}{r|llllllllllll}\n",
       " ph\\_24h &  temp\\_24h & driploss & id & phenotyped & genotyped & family & sex & litter & slgdt\\_cd & age\\_slg & car\\_wt\\\\\n",
       "\\hline\n",
       "\t 5.22  & 1.6   & 0.95  & 1034  & TRUE  & TRUE  & NA    & F     & 5     & 2     & 160   & 85.49\\\\\n",
       "\t 5.19  & 1.3   & 0.82  & 1036  & TRUE  & TRUE  & NA    & F     & 5     & 2     & 160   & 71.66\\\\\n",
       "\t 5.44  & 1.8   & 1.15  & 1041  & TRUE  & TRUE  & NA    & M     & 5     & 2     & 160   & 80.27\\\\\n",
       "\t 5.36  & 1.8   & 0.55  & 1049  & TRUE  & TRUE  & NA    & M     & 5     & 2     & 160   & 81.86\\\\\n",
       "\t 5.25  & 1.3   & 2.87  & 1058  & TRUE  & TRUE  & NA    & F     & 10    & 2     & 159   & 72.11\\\\\n",
       "\t 5.29  & 1.5   & 1.02  & 1060  & TRUE  & TRUE  & NA    & F     & 10    & 2     & 159   & 70.75\\\\\n",
       "\\end{tabular}\n"
      ],
      "text/markdown": [
       "\n",
       "ph_24h |  temp_24h | driploss | id | phenotyped | genotyped | family | sex | litter | slgdt_cd | age_slg | car_wt | \n",
       "|---|---|---|---|---|---|\n",
       "| 5.22  | 1.6   | 0.95  | 1034  | TRUE  | TRUE  | NA    | F     | 5     | 2     | 160   | 85.49 | \n",
       "| 5.19  | 1.3   | 0.82  | 1036  | TRUE  | TRUE  | NA    | F     | 5     | 2     | 160   | 71.66 | \n",
       "| 5.44  | 1.8   | 1.15  | 1041  | TRUE  | TRUE  | NA    | M     | 5     | 2     | 160   | 80.27 | \n",
       "| 5.36  | 1.8   | 0.55  | 1049  | TRUE  | TRUE  | NA    | M     | 5     | 2     | 160   | 81.86 | \n",
       "| 5.25  | 1.3   | 2.87  | 1058  | TRUE  | TRUE  | NA    | F     | 10    | 2     | 159   | 72.11 | \n",
       "| 5.29  | 1.5   | 1.02  | 1060  | TRUE  | TRUE  | NA    | F     | 10    | 2     | 159   | 70.75 | \n",
       "\n",
       "\n"
      ],
      "text/plain": [
       "  ph_24h  temp_24h driploss id   phenotyped genotyped family sex litter\n",
       "1 5.22   1.6       0.95     1034 TRUE       TRUE      NA     F   5     \n",
       "2 5.19   1.3       0.82     1036 TRUE       TRUE      NA     F   5     \n",
       "3 5.44   1.8       1.15     1041 TRUE       TRUE      NA     M   5     \n",
       "4 5.36   1.8       0.55     1049 TRUE       TRUE      NA     M   5     \n",
       "5 5.25   1.3       2.87     1058 TRUE       TRUE      NA     F   10    \n",
       "6 5.29   1.5       1.02     1060 TRUE       TRUE      NA     F   10    \n",
       "  slgdt_cd age_slg car_wt\n",
       "1 2        160     85.49 \n",
       "2 2        160     71.66 \n",
       "3 2        160     80.27 \n",
       "4 2        160     81.86 \n",
       "5 2        159     72.11 \n",
       "6 2        159     70.75 "
      ]
     },
     "metadata": {},
     "output_type": "display_data"
    }
   ],
   "source": [
    "library(dplyr)\n",
    "tmp<-data.frame(MSUPRP_sample$pheno)\n",
    "tmp$id<-rownames(tmp)\n",
    "colnames(tmp)=c(\"ph_24h\",\" temp_24h\",\"driploss\",\"id\")\n",
    "pheno<-left_join(tmp,MSUPRP_sample$covar,by=\"id\")\n",
    "head(pheno)"
   ]
  },
  {
   "cell_type": "markdown",
   "metadata": {},
   "source": [
    "### 3. Check genotype matrix"
   ]
  },
  {
   "cell_type": "code",
   "execution_count": 5,
   "metadata": {
    "collapsed": false
   },
   "outputs": [
    {
     "data": {
      "text/html": [
       "<ol class=list-inline>\n",
       "\t<li>251</li>\n",
       "\t<li>20597</li>\n",
       "</ol>\n"
      ],
      "text/latex": [
       "\\begin{enumerate*}\n",
       "\\item 251\n",
       "\\item 20597\n",
       "\\end{enumerate*}\n"
      ],
      "text/markdown": [
       "1. 251\n",
       "2. 20597\n",
       "\n",
       "\n"
      ],
      "text/plain": [
       "[1]   251 20597"
      ]
     },
     "metadata": {},
     "output_type": "display_data"
    },
    {
     "data": {
      "text/html": [
       "<table>\n",
       "<thead><tr><th></th><th scope=col>MARC0044150</th><th scope=col>ASGA0000014</th><th scope=col>H3GA0000032</th><th scope=col>ASGA0000047</th><th scope=col>H3GA0000057</th><th scope=col>H3GA0000082</th><th scope=col>ALGA0000251</th><th scope=col>MARC0049965</th><th scope=col>ASGA0101285</th><th scope=col>ASGA0102762</th></tr></thead>\n",
       "<tbody>\n",
       "\t<tr><th scope=row>1034</th><td>0</td><td>2</td><td>0</td><td>2</td><td>2</td><td>0</td><td>1</td><td>2</td><td>2</td><td>1</td></tr>\n",
       "\t<tr><th scope=row>1036</th><td>0</td><td>2</td><td>0</td><td>2</td><td>2</td><td>0</td><td>1</td><td>2</td><td>2</td><td>1</td></tr>\n",
       "\t<tr><th scope=row>1041</th><td>1</td><td>2</td><td>1</td><td>2</td><td>2</td><td>1</td><td>0</td><td>2</td><td>2</td><td>0</td></tr>\n",
       "\t<tr><th scope=row>1049</th><td>1</td><td>2</td><td>1</td><td>2</td><td>2</td><td>1</td><td>0</td><td>2</td><td>2</td><td>0</td></tr>\n",
       "\t<tr><th scope=row>1058</th><td>1</td><td>2</td><td>1</td><td>1</td><td>1</td><td>0</td><td>0</td><td>2</td><td>2</td><td>0</td></tr>\n",
       "</tbody>\n",
       "</table>\n"
      ],
      "text/latex": [
       "\\begin{tabular}{r|llllllllll}\n",
       "  & MARC0044150 & ASGA0000014 & H3GA0000032 & ASGA0000047 & H3GA0000057 & H3GA0000082 & ALGA0000251 & MARC0049965 & ASGA0101285 & ASGA0102762\\\\\n",
       "\\hline\n",
       "\t1034 & 0 & 2 & 0 & 2 & 2 & 0 & 1 & 2 & 2 & 1\\\\\n",
       "\t1036 & 0 & 2 & 0 & 2 & 2 & 0 & 1 & 2 & 2 & 1\\\\\n",
       "\t1041 & 1 & 2 & 1 & 2 & 2 & 1 & 0 & 2 & 2 & 0\\\\\n",
       "\t1049 & 1 & 2 & 1 & 2 & 2 & 1 & 0 & 2 & 2 & 0\\\\\n",
       "\t1058 & 1 & 2 & 1 & 1 & 1 & 0 & 0 & 2 & 2 & 0\\\\\n",
       "\\end{tabular}\n"
      ],
      "text/markdown": [
       "\n",
       "| <!--/--> | MARC0044150 | ASGA0000014 | H3GA0000032 | ASGA0000047 | H3GA0000057 | H3GA0000082 | ALGA0000251 | MARC0049965 | ASGA0101285 | ASGA0102762 | \n",
       "|---|---|---|---|---|\n",
       "| 1034 | 0 | 2 | 0 | 2 | 2 | 0 | 1 | 2 | 2 | 1 | \n",
       "| 1036 | 0 | 2 | 0 | 2 | 2 | 0 | 1 | 2 | 2 | 1 | \n",
       "| 1041 | 1 | 2 | 1 | 2 | 2 | 1 | 0 | 2 | 2 | 0 | \n",
       "| 1049 | 1 | 2 | 1 | 2 | 2 | 1 | 0 | 2 | 2 | 0 | \n",
       "| 1058 | 1 | 2 | 1 | 1 | 1 | 0 | 0 | 2 | 2 | 0 | \n",
       "\n",
       "\n"
      ],
      "text/plain": [
       "     MARC0044150 ASGA0000014 H3GA0000032 ASGA0000047 H3GA0000057 H3GA0000082\n",
       "1034 0           2           0           2           2           0          \n",
       "1036 0           2           0           2           2           0          \n",
       "1041 1           2           1           2           2           1          \n",
       "1049 1           2           1           2           2           1          \n",
       "1058 1           2           1           1           1           0          \n",
       "     ALGA0000251 MARC0049965 ASGA0101285 ASGA0102762\n",
       "1034 1           2           2           1          \n",
       "1036 1           2           2           1          \n",
       "1041 0           2           2           0          \n",
       "1049 0           2           2           0          \n",
       "1058 0           2           2           0          "
      ]
     },
     "metadata": {},
     "output_type": "display_data"
    }
   ],
   "source": [
    "geno<-MSUPRP_sample$geno\n",
    "dim(geno)\n",
    "geno[1:5,1:10]"
   ]
  },
  {
   "cell_type": "markdown",
   "metadata": {},
   "source": [
    "In BATools, the `id` will be matched with the `colname` of the genotype matrix, make sure you have genotype for all the individuals unless you're using single-step approach.\n"
   ]
  },
  {
   "cell_type": "code",
   "execution_count": 6,
   "metadata": {
    "collapsed": false
   },
   "outputs": [
    {
     "data": {
      "text/html": [
       "<ol class=list-inline>\n",
       "\t<li>20</li>\n",
       "\t<li>20597</li>\n",
       "</ol>\n"
      ],
      "text/latex": [
       "\\begin{enumerate*}\n",
       "\\item 20\n",
       "\\item 20597\n",
       "\\end{enumerate*}\n"
      ],
      "text/markdown": [
       "1. 20\n",
       "2. 20597\n",
       "\n",
       "\n"
      ],
      "text/plain": [
       "[1]    20 20597"
      ]
     },
     "metadata": {},
     "output_type": "display_data"
    },
    {
     "data": {
      "text/plain": [
       "   Min. 1st Qu.  Median    Mean 3rd Qu.    Max. \n",
       " 0.0250  0.3000  0.5250  0.5102  0.7000  0.9750 "
      ]
     },
     "metadata": {},
     "output_type": "display_data"
    }
   ],
   "source": [
    "genof0<-geno[which(as.numeric(rownames(geno))>6000),]\n",
    "dim(genof0)\n",
    "maf.f0<-colMeans(genof0,na.rm = T)/2\n",
    "summary(maf.f0)"
   ]
  },
  {
   "cell_type": "markdown",
   "metadata": {},
   "source": [
    "### 4. Create pedigree based additive genomic relationship matrix"
   ]
  },
  {
   "cell_type": "code",
   "execution_count": 14,
   "metadata": {
    "collapsed": false
   },
   "outputs": [
    {
     "data": {
      "text/html": [
       "<table>\n",
       "<thead><tr><th scope=col>ID</th><th scope=col>Par1</th><th scope=col>Par2</th><th scope=col>gener</th><th scope=col>sex</th></tr></thead>\n",
       "<tbody>\n",
       "\t<tr><td>6070</td><td>0   </td><td>0   </td><td>0   </td><td>0   </td></tr>\n",
       "\t<tr><td>6071</td><td>0   </td><td>0   </td><td>0   </td><td>0   </td></tr>\n",
       "\t<tr><td>6086</td><td>0   </td><td>0   </td><td>0   </td><td>0   </td></tr>\n",
       "\t<tr><td>6088</td><td>0   </td><td>0   </td><td>0   </td><td>0   </td></tr>\n",
       "\t<tr><td>6092</td><td>0   </td><td>0   </td><td>0   </td><td>0   </td></tr>\n",
       "\t<tr><td>6323</td><td>0   </td><td>0   </td><td>0   </td><td>1   </td></tr>\n",
       "</tbody>\n",
       "</table>\n"
      ],
      "text/latex": [
       "\\begin{tabular}{r|lllll}\n",
       " ID & Par1 & Par2 & gener & sex\\\\\n",
       "\\hline\n",
       "\t 6070 & 0    & 0    & 0    & 0   \\\\\n",
       "\t 6071 & 0    & 0    & 0    & 0   \\\\\n",
       "\t 6086 & 0    & 0    & 0    & 0   \\\\\n",
       "\t 6088 & 0    & 0    & 0    & 0   \\\\\n",
       "\t 6092 & 0    & 0    & 0    & 0   \\\\\n",
       "\t 6323 & 0    & 0    & 0    & 1   \\\\\n",
       "\\end{tabular}\n"
      ],
      "text/markdown": [
       "\n",
       "ID | Par1 | Par2 | gener | sex | \n",
       "|---|---|---|---|---|---|\n",
       "| 6070 | 0    | 0    | 0    | 0    | \n",
       "| 6071 | 0    | 0    | 0    | 0    | \n",
       "| 6086 | 0    | 0    | 0    | 0    | \n",
       "| 6088 | 0    | 0    | 0    | 0    | \n",
       "| 6092 | 0    | 0    | 0    | 0    | \n",
       "| 6323 | 0    | 0    | 0    | 1    | \n",
       "\n",
       "\n"
      ],
      "text/plain": [
       "  ID   Par1 Par2 gener sex\n",
       "1 6070 0    0    0     0  \n",
       "2 6071 0    0    0     0  \n",
       "3 6086 0    0    0     0  \n",
       "4 6088 0    0    0     0  \n",
       "5 6092 0    0    0     0  \n",
       "6 6323 0    0    0     1  "
      ]
     },
     "metadata": {},
     "output_type": "display_data"
    },
    {
     "name": "stderr",
     "output_type": "stream",
     "text": [
      "Warning message in if (attr(pedigree, \"class\") == \"phylo\") {:\n",
      "\"the condition has length > 1 and only the first element will be used\""
     ]
    },
    {
     "data": {
      "text/plain": [
       "5 x 5 sparse Matrix of class \"dgCMatrix\"\n",
       "     6070 6071 6086 6088 6092\n",
       "[1,]    1    .    .    .    .\n",
       "[2,]    .    1    .    .    .\n",
       "[3,]    .    .    1    .    .\n",
       "[4,]    .    .    .    1    .\n",
       "[5,]    .    .    .    .    1"
      ]
     },
     "metadata": {},
     "output_type": "display_data"
    }
   ],
   "source": [
    "ped<-MSUPRP_sample$pedigree\n",
    "head(ped)\n",
    "source(\"tools.R\")\n",
    "library(pedigree)\n",
    "colnames(ped)=c(\"id\",\"father\",\"mother\",\"generation\",\"sex\")\n",
    "ped0=Pedigree(ped,unknown = 0)\n",
    "Ainv<-MCMCglmm::inverseA(pedigree=ped0[,1:3],nodes=\"ALL\")$Ainv\n",
    "A=Matrix::solve(Ainv,sparse=TRUE,tol=1e-16)\n",
    "A[which(A<1e-6)]=0\n",
    "colnames(A)=ped0$id\n",
    "A[1:5,1:5]\n"
   ]
  },
  {
   "cell_type": "markdown",
   "metadata": {
    "collapsed": false
   },
   "source": [
    "### 5. Building map with adaptive window based on LD\n",
    "Install `BALD` package from http://www.math-evry.cnrs.fr/logiciels/bald. On windows, `RTools` need to be pre-installed https://cran.r-project.org/bin/windows/Rtools/ and add your `RTools` path to enviroment variable. But linux or Mac are recommended since `BALD` is not available at CRAN. \n",
    "\n",
    "Installing these packages can be complicated, if you have any question, send me an email at chench57{at}msu.edu"
   ]
  },
  {
   "cell_type": "code",
   "execution_count": 15,
   "metadata": {
    "collapsed": false
   },
   "outputs": [
    {
     "name": "stderr",
     "output_type": "stream",
     "text": [
      "Updating HTML index of packages in '.Library'\n",
      "Making 'packages.html' ... done\n",
      "Bioconductor version 3.4 (BiocInstaller 1.24.0), ?biocLite for help\n",
      "A new version of Bioconductor is available after installing the most recent\n",
      "  version of R; see http://bioconductor.org/install\n",
      "BioC_mirror: https://bioconductor.org\n",
      "Using Bioconductor 3.4 (BiocInstaller 1.24.0), R 3.3.2 (2016-10-31).\n",
      "Installing package(s) 'chopsticks'\n",
      "also installing the dependency 'survival'\n",
      "\n",
      "Updating HTML index of packages in '.Library'\n",
      "Making 'packages.html' ... done\n",
      "Old packages: 'R6', 'digest', 'evaluate', 'jsonlite', 'memoise', 'pbdZMQ',\n",
      "  'repr', 'stringi', 'stringr'\n",
      "BioC_mirror: https://bioconductor.org\n",
      "Using Bioconductor 3.4 (BiocInstaller 1.24.0), R 3.3.2 (2016-10-31).\n",
      "Installing package(s) 'snpStats'\n",
      "also installing the dependencies 'BiocGenerics', 'zlibbioc'\n",
      "\n",
      "Updating HTML index of packages in '.Library'\n",
      "Making 'packages.html' ... done\n",
      "Old packages: 'R6', 'digest', 'evaluate', 'jsonlite', 'memoise', 'pbdZMQ',\n",
      "  'repr', 'stringi', 'stringr'\n",
      "BioC_mirror: https://bioconductor.org\n",
      "Using Bioconductor 3.4 (BiocInstaller 1.24.0), R 3.3.2 (2016-10-31).\n",
      "Installing package(s) 'ROC'\n",
      "Updating HTML index of packages in '.Library'\n",
      "Making 'packages.html' ... done\n",
      "Old packages: 'R6', 'digest', 'evaluate', 'jsonlite', 'memoise', 'pbdZMQ',\n",
      "  'repr', 'stringi', 'stringr'\n",
      "Warning message:\n",
      "\"packages 'ROC', 'snpStats' are not available (for R version 3.3.2)\"also installing the dependencies 'combinat', 'gdata', 'gtools', 'mvtnorm', 'genetics', 'RcppArmadillo'\n",
      "\n",
      "Updating HTML index of packages in '.Library'\n",
      "Making 'packages.html' ... done\n"
     ]
    }
   ],
   "source": [
    "source(\"https://bioconductor.org/biocLite.R\")\n",
    "biocLite(\"chopsticks\")\n",
    "biocLite(\"snpStats\")\n",
    "biocLite(\"ROC\")\n",
    "install.packages(c(\"LDheatmap\",\"quadrupen\", \"ROC\", \"grplasso\",\"snpStats\"))\n"
   ]
  },
  {
   "cell_type": "code",
   "execution_count": 16,
   "metadata": {
    "collapsed": false
   },
   "outputs": [
    {
     "name": "stderr",
     "output_type": "stream",
     "text": [
      "Updating HTML index of packages in '.Library'\n",
      "Making 'packages.html' ... done\n"
     ]
    }
   ],
   "source": [
    "install.packages(\"matrixStats\")\n",
    "system(\"wget http://www.math-evry.cnrs.fr/_media/logiciels/bald_0.2.1.tar.gz\")\n",
    "system(\"R CMD INSTALL bald_0.2.1.tar.gz\")"
   ]
  },
  {
   "cell_type": "markdown",
   "metadata": {},
   "source": [
    "Ok, now we can start to use BALD for obtain the LD based window"
   ]
  },
  {
   "cell_type": "code",
   "execution_count": 17,
   "metadata": {
    "collapsed": false
   },
   "outputs": [
    {
     "name": "stderr",
     "output_type": "stream",
     "text": [
      "Loading required package: grid\n",
      "\n",
      "Attaching package: 'BALD'\n",
      "\n",
      "The following object is masked from 'package:dplyr':\n",
      "\n",
      "    select\n",
      "\n"
     ]
    },
    {
     "data": {
      "text/html": [
       "<table>\n",
       "<thead><tr><th></th><th scope=col>chr</th><th scope=col>pos</th></tr></thead>\n",
       "<tbody>\n",
       "\t<tr><th scope=row>MARC0044150</th><td>1      </td><td> 286933</td></tr>\n",
       "\t<tr><th scope=row>ASGA0000014</th><td>1      </td><td> 342481</td></tr>\n",
       "\t<tr><th scope=row>H3GA0000032</th><td>1      </td><td> 573088</td></tr>\n",
       "\t<tr><th scope=row>ASGA0000047</th><td>1      </td><td> 813652</td></tr>\n",
       "\t<tr><th scope=row>H3GA0000057</th><td>1      </td><td>1220227</td></tr>\n",
       "\t<tr><th scope=row>H3GA0000082</th><td>1      </td><td>1843489</td></tr>\n",
       "</tbody>\n",
       "</table>\n"
      ],
      "text/latex": [
       "\\begin{tabular}{r|ll}\n",
       "  & chr & pos\\\\\n",
       "\\hline\n",
       "\tMARC0044150 & 1       &  286933\\\\\n",
       "\tASGA0000014 & 1       &  342481\\\\\n",
       "\tH3GA0000032 & 1       &  573088\\\\\n",
       "\tASGA0000047 & 1       &  813652\\\\\n",
       "\tH3GA0000057 & 1       & 1220227\\\\\n",
       "\tH3GA0000082 & 1       & 1843489\\\\\n",
       "\\end{tabular}\n"
      ],
      "text/markdown": [
       "\n",
       "| <!--/--> | chr | pos | \n",
       "|---|---|---|---|---|---|\n",
       "| MARC0044150 | 1       |  286933 | \n",
       "| ASGA0000014 | 1       |  342481 | \n",
       "| H3GA0000032 | 1       |  573088 | \n",
       "| ASGA0000047 | 1       |  813652 | \n",
       "| H3GA0000057 | 1       | 1220227 | \n",
       "| H3GA0000082 | 1       | 1843489 | \n",
       "\n",
       "\n"
      ],
      "text/plain": [
       "            chr pos    \n",
       "MARC0044150 1    286933\n",
       "ASGA0000014 1    342481\n",
       "H3GA0000032 1    573088\n",
       "ASGA0000047 1    813652\n",
       "H3GA0000057 1   1220227\n",
       "H3GA0000082 1   1843489"
      ]
     },
     "metadata": {},
     "output_type": "display_data"
    }
   ],
   "source": [
    "library(BALD)\n",
    "map<-MSUPRP_sample$map\n",
    "head(map)\n",
    "map=MSUPRP_sample$map\n",
    "chrs=list()\n",
    "for(i in 1:max(map$chr)){\n",
    "  ii=which(map$chr==i)\n",
    "  chrs[[i]]=geno[,ii]\n",
    "}\n",
    "\n",
    "#This will take couple hours, suggest you run it in parallel in high-performance computing (HPC) platform, which was what I did. \n",
    "if(F){\n",
    "for(i in 1:length(chrs)){\n",
    "  Z=chr[[i]]+1\n",
    "  p=dim(Z)[2]\n",
    "  gapS <- gapStatistic(Z, min.nc=2, max.nc=p-1, B=50)\n",
    "  gapS$best.k\n",
    "  adaptiveWindows[[i]] <- cutree(gapS$tree, gapS$best.k)\n",
    "}\n",
    "}\n",
    "#After running this througth, I save the file in `bald.RData`"
   ]
  },
  {
   "cell_type": "markdown",
   "metadata": {},
   "source": [
    "Let's then re-load the file we computed on HPC"
   ]
  },
  {
   "cell_type": "code",
   "execution_count": null,
   "metadata": {
    "collapsed": true
   },
   "outputs": [],
   "source": [
    "load(\"bald.RData\")\n",
    "idw<-adaptiveWindows[[1]]\n",
    "for(i in 2:length(adaptiveWindows)){\n",
    "  tmp<-max(idw)\n",
    "  idw<-c(idw,adaptiveWindows[[i]]+tmp)\n",
    "}\n",
    "map$idw=idw"
   ]
  },
  {
   "cell_type": "markdown",
   "metadata": {},
   "source": [
    "Now let’s save all the files"
   ]
  },
  {
   "cell_type": "code",
   "execution_count": null,
   "metadata": {
    "collapsed": true
   },
   "outputs": [],
   "source": [
    "PigA<-A\n",
    "PigAinv<-Ainv\n",
    "PigM<-geno\n",
    "PigMap<-map\n",
    "PigPheno<-pheno %>% \n",
    "          filter(!is.na(phenotyped)) %>% \n",
    "          dplyr::select(driploss,id,sex,litter,slgdt_cd,age_slg,car_wt)\n",
    "PigPed<-ped0\n",
    "PigAlleleFreq<-freq.f0\n",
    "save(PigA,PigAinv,PigM,PigMap,PigPheno,PigPed,PigAlleleFreq,file=\"Pig.RData\")"
   ]
  }
 ],
 "metadata": {
  "anaconda-cloud": {},
  "kernelspec": {
   "display_name": "R",
   "language": "R",
   "name": "ir"
  },
  "language_info": {
   "codemirror_mode": "r",
   "file_extension": ".r",
   "mimetype": "text/x-r-source",
   "name": "R",
   "pygments_lexer": "r",
   "version": "3.3.2"
  }
 },
 "nbformat": 4,
 "nbformat_minor": 2
}
