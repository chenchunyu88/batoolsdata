{
 "cells": [
  {
   "cell_type": "markdown",
   "metadata": {},
   "source": [
    "# Pre-process MSUPRP sample data for BATools\n",
    "\n",
    "## Information about the dataset\n",
    "\n",
    "The data comes from https://github.com/steibelj/gwaR, an example dataset for gwas study for MSUPRP dataset. The complete dataset can be also found at https://github.com/steibelj/GWA_growth.\n",
    "\n",
    "The dataset comes as `gpData` from the `synbreed` R package.\n",
    "\n",
    "This example will demonstrate how to create pedigree based relationship matrix and adaptive window based LD from the dataset.\n",
    "\n",
    "Finally, we'll create the data file for BATools.\n",
    "\n",
    "### 0. Before you start\n",
    "Make sure you have the following R package installed: `dplyr`,`MCMCglmm`, `Matrix`\n",
    "\n",
    "### 1. Explore the data "
   ]
  },
  {
   "cell_type": "code",
   "execution_count": 1,
   "metadata": {
    "collapsed": false
   },
   "outputs": [
    {
     "data": {
      "text/html": [
       "'gpData'"
      ],
      "text/latex": [
       "'gpData'"
      ],
      "text/markdown": [
       "'gpData'"
      ],
      "text/plain": [
       "[1] \"gpData\""
      ]
     },
     "metadata": {},
     "output_type": "display_data"
    },
    {
     "name": "stdout",
     "output_type": "stream",
     "text": [
      "List of 7\n",
      " $ covar      :'data.frame':\t253 obs. of  9 variables:\n",
      "  ..$ id        : chr [1:253] \"6070\" \"6071\" \"6086\" \"6088\" ...\n",
      "  ..$ phenotyped: logi [1:253] FALSE FALSE FALSE FALSE FALSE FALSE ...\n",
      "  ..$ genotyped : logi [1:253] TRUE TRUE TRUE TRUE TRUE TRUE ...\n",
      "  ..$ family    : logi [1:253] NA NA NA NA NA NA ...\n",
      "  ..$ sex       : Factor w/ 2 levels \"F\",\"M\": NA NA NA NA NA NA NA NA NA NA ...\n",
      "  ..$ litter    : Factor w/ 142 levels \"1\",\"2\",\"3\",\"4\",..: NA NA NA NA NA NA NA NA NA NA ...\n",
      "  ..$ slgdt_cd  : Factor w/ 33 levels \"1\",\"2\",\"3\",\"4\",..: NA NA NA NA NA NA NA NA NA NA ...\n",
      "  ..$ age_slg   : int [1:253] NA NA NA NA NA NA NA NA NA NA ...\n",
      "  ..$ car_wt    : num [1:253] NA NA NA NA NA NA NA NA NA NA ...\n",
      " $ pheno      : num [1:194, 1:3, 1] 5.22 5.19 5.44 5.36 5.25 5.29 5.44 5.26 5.35 5.39 ...\n",
      "  ..- attr(*, \"dimnames\")=List of 3\n",
      "  .. ..$ : chr [1:194] \"1034\" \"1036\" \"1041\" \"1049\" ...\n",
      "  .. ..$ : chr [1:3] \"ph_24h\" \"temp_24h\" \"driploss\"\n",
      "  .. ..$ : NULL\n",
      " $ geno       : num [1:251, 1:20597] 0 0 1 1 1 2 1 1 1 1 ...\n",
      "  ..- attr(*, \"dimnames\")=List of 2\n",
      "  .. ..$ : chr [1:251] \"1034\" \"1036\" \"1041\" \"1049\" ...\n",
      "  .. ..$ : chr [1:20597] \"MARC0044150\" \"ASGA0000014\" \"H3GA0000032\" \"ASGA0000047\" ...\n",
      " $ map        :Classes 'GenMap' and 'data.frame':\t20597 obs. of  2 variables:\n",
      "  ..$ chr: num [1:20597] 1 1 1 1 1 1 1 1 1 1 ...\n",
      "  ..$ pos: num [1:20597] 286933 342481 573088 813652 1220227 ...\n",
      " $ pedigree   :Classes 'pedigree' and 'data.frame':\t253 obs. of  5 variables:\n",
      "  ..$ ID   : chr [1:253] \"6070\" \"6071\" \"6086\" \"6088\" ...\n",
      "  ..$ Par1 : chr [1:253] \"0\" \"0\" \"0\" \"0\" ...\n",
      "  ..$ Par2 : chr [1:253] \"0\" \"0\" \"0\" \"0\" ...\n",
      "  ..$ gener: num [1:253] 0 0 0 0 0 0 0 0 0 0 ...\n",
      "  ..$ sex  : num [1:253] 0 0 0 0 0 1 1 1 1 0 ...\n",
      " $ phenoCovars: NULL\n",
      " $ info       :List of 2\n",
      "  ..$ map.unit: chr \"bp\"\n",
      "  ..$ codeGeno: logi TRUE\n",
      " - attr(*, \"class\")= chr \"gpData\"\n"
     ]
    }
   ],
   "source": [
    "load(\"MSUPRP_sample.RData\")\n",
    "class(MSUPRP_sample)\n",
    "str(MSUPRP_sample)"
   ]
  },
  {
   "cell_type": "code",
   "execution_count": null,
   "metadata": {
    "collapsed": true
   },
   "outputs": [],
   "source": []
  }
 ],
 "metadata": {
  "anaconda-cloud": {},
  "kernelspec": {
   "display_name": "R",
   "language": "R",
   "name": "ir"
  },
  "language_info": {
   "codemirror_mode": "r",
   "file_extension": ".r",
   "mimetype": "text/x-r-source",
   "name": "R",
   "pygments_lexer": "r",
   "version": "3.3.2"
  }
 },
 "nbformat": 4,
 "nbformat_minor": 2
}
